{
 "cells": [
  {
   "cell_type": "markdown",
   "metadata": {},
   "source": [
    "# งบประมาณของกทมประจำปี 2563"
   ]
  },
  {
   "cell_type": "code",
   "execution_count": 1,
   "metadata": {
    "colab": {
     "base_uri": "https://localhost:8080/",
     "height": 138
    },
    "colab_type": "code",
    "id": "T97gljF4CrEC",
    "outputId": "e2f38624-cf1a-4f72-cd18-2d4d182f3f5a"
   },
   "outputs": [],
   "source": [
    "# !pip install tika"
   ]
  },
  {
   "cell_type": "code",
   "execution_count": 4,
   "metadata": {
    "colab": {},
    "colab_type": "code",
    "id": "FyD5bDLYDTWy"
   },
   "outputs": [],
   "source": [
    "import tika\n",
    "import pandas as pd\n",
    "import numpy as np\n",
    "tika.initVM()\n",
    "from tika import parser\n",
    "\n",
    "#ดึงข้อความออกจาก pdf\n",
    "parsed = parser.from_file('./bangkok.pdf')\n",
    "content=parsed[\"content\"]\n",
    "# print(content)\n"
   ]
  },
  {
   "cell_type": "code",
   "execution_count": 5,
   "metadata": {
    "colab": {
     "base_uri": "https://localhost:8080/",
     "height": 55
    },
    "colab_type": "code",
    "id": "AQIv_JNNE2VX",
    "outputId": "e8771b36-d3e4-4861-ddcf-a7bca4d04f1a"
   },
   "outputs": [
    {
     "name": "stdout",
     "output_type": "stream",
     "text": [
      "['(1) งบกลาง รวม 14,878,887,438 บาท', '1. เงินส ารองจ่ายท่ัวไป 486,536,500           บาท', '', '1.1 กรณีฉุกเฉินหรือจ าเป็น 100,000,000 บาท', '1.2 กรณีค่าใช้จ่ายต่าง ๆ เก่ียวกับน  าท่วม 100,000,000 บาท', '1.3 กรณีค่าใช้จ่ายเพ่ือการพัฒนา', '', 'กรุงเทพมหานคร 286,536,500 บาท', '2. เงินช่วยเหลือข้าราชการและลูกจ้าง 2,700,000,000 บาท', '3. เงินบ าเหน็จลูกจ้าง 650,000,000 บาท']\n"
     ]
    }
   ],
   "source": [
    "#แบ่งข้อความที่ดึงออกมาโดยใช้ \\n เป็นสัญลักษณ์ในการแบ่ง\n",
    "paragraphs = content.split('\\n')\n",
    "print(paragraphs[156:166])"
   ]
  },
  {
   "cell_type": "code",
   "execution_count": 6,
   "metadata": {
    "colab": {},
    "colab_type": "code",
    "id": "iCyZZQ76DXbP"
   },
   "outputs": [],
   "source": [
    "#แทนคำในแต่ละบรรทัด\n",
    "import re\n",
    "uu1=[]\n",
    "for i,p in enumerate(paragraphs):\n",
    "  p = p.replace(\"พื น\", \"พื้น\")\n",
    "  p = p.replace(\"ระยะท่ี 2\", \"ระยะที่2\")\n",
    "  p = p.replace(\"(ระยะที่2)\", \"ระยะที่2\") \n",
    "  p = p.replace(\" า\", \"ำ\")\n",
    "  p = p.replace(\"น ำ\", \"น้ำ\")\n",
    "  p = p.replace(\"ตั ง\", \"ตั้ง\")\n",
    "  p = p.replace(\"ชั น\", \"ชั้น\")\n",
    "  p = p.replace(\"จำแนกดังนี\", \" \")  \n",
    "  p = p.replace(\"(CCTV)\", \"CCTV\")\n",
    "  p = p.replace(\"(เชิงสะพานพระราม 7 - แยกท่าพระ)\", \"เชิงสะพานพระราม 7 - แยกท่าพระ\")\n",
    "  p = p.replace(\"10.50 กิโลเมตร\", \"10กิโลเมตร 500 เมตร\")\n",
    "  p = p.replace(\" (ดาดฟ้า)\", \" ดาดฟ้า\")\n",
    "  p = p.replace(\"Sta.2+935\", \"\")\n",
    "  p = p.replace(\"สน. หัวหมาก\", \"สน หัวหมาก\")\n",
    "  p = p.replace(\"ลบ.ม.\", \"ลูกบากศ์เมตร\")\n",
    "  p = p.replace(\"(พิศลยบุตร)\", \"พิศลยบุตร\")\n",
    "  p = p.replace(\"(ดาดฟ้า)\", \"ดาดฟ้า\")\n",
    "\n",
    "  # ลบเลขหน้าออกจากบรรทัด\n",
    "  if len(p) > 2:\n",
    "      uu1.append(p)\n"
   ]
  },
  {
   "cell_type": "code",
   "execution_count": 7,
   "metadata": {
    "colab": {
     "base_uri": "https://localhost:8080/",
     "height": 190
    },
    "colab_type": "code",
    "id": "cYlVIvxZnhef",
    "outputId": "effbd8e4-4b65-48f3-a45e-50b8ef361a2c"
   },
   "outputs": [
    {
     "data": {
      "text/plain": [
       "['(1) งบกลาง รวม 14,878,887,438 บาท',\n",
       " '1. เงินสำรองจ่ายท่ัวไป 486,536,500           บาท',\n",
       " '1.1 กรณีฉุกเฉินหรือจำเป็น 100,000,000 บาท',\n",
       " '1.2 กรณีค่าใช้จ่ายต่าง ๆ เก่ียวกับน้ำท่วม 100,000,000 บาท',\n",
       " '1.3 กรณีค่าใช้จ่ายเพ่ือการพัฒนา',\n",
       " 'กรุงเทพมหานคร 286,536,500 บาท',\n",
       " '2. เงินช่วยเหลือข้าราชการและลูกจ้าง 2,700,000,000 บาท',\n",
       " '3. เงินบำเหน็จลูกจ้าง 650,000,000 บาท',\n",
       " '4. ค่าติดต้ังไฟฟ้าสาธารณะ 200,000,000 บาท',\n",
       " '5. เงินสำรองสำหรับค่างาน ส่วนท่ีเพ่ิมตามสัญญา แบบปรับราคาได้ 20,000,000 บาท']"
      ]
     },
     "execution_count": 7,
     "metadata": {},
     "output_type": "execute_result"
    }
   ],
   "source": [
    "#เริ่มจากตำแหน่งที่ 85 \n",
    "#*** เช็คเพื่อความแน่ใจทุกครั้ง uu2[0]=(1) งบกลาง รวม 14,878,887,438 บาท\n",
    "uu2=uu1[88:]\n",
    "uu2[0:10]"
   ]
  },
  {
   "cell_type": "code",
   "execution_count": 8,
   "metadata": {
    "colab": {},
    "colab_type": "code",
    "id": "ALKT90M-moYg"
   },
   "outputs": [],
   "source": [
    "# ใส่อักษร n.,k.,ก. และ 1. ขึ้นต้นประโยค เมื่อประโยคขึ้นต้นด้วย รายจ่ายประจำ,รายจ่ายพิเศษ,ข้อ,แผนงาน,งาน,เงินสำรองจ่าย เพื่อง่ายต่อการสร้างตาราง\n",
    "uu=[]\n",
    "for i,g in enumerate(uu2):\n",
    "  # print(i,g)\n",
    "  if g.startswith('รายจ่ายประจำ') or g.startswith('รายจ่ายพิเศษ'):\n",
    "    x='n. '+g\n",
    "  elif g.startswith('ข้อ'):\n",
    "    x='k. '+g\n",
    "  elif g.startswith('แผนงาน'):\n",
    "    x='ก. '+g\n",
    "  elif g.startswith('งาน') or g.startswith('เงินสำรองจ่าย'):\n",
    "    x='1. '+g\n",
    "  else:\n",
    "    x=g\n",
    "  # print(x)\n",
    "  uu.append(x)"
   ]
  },
  {
   "cell_type": "code",
   "execution_count": 9,
   "metadata": {
    "colab": {
     "base_uri": "https://localhost:8080/",
     "height": 190
    },
    "colab_type": "code",
    "id": "KAGaRx04z9xv",
    "outputId": "a2aa5358-6e41-41bb-fa1f-62d85ce8399d"
   },
   "outputs": [
    {
     "data": {
      "text/plain": [
       "['ก. งบกลาง 6,313,300 บาท',\n",
       " '1. เงินช่วยเหลือ ค่าเล่าเรียนบุตร 463,300 บาท',\n",
       " '2. เงินช่วยเหลือ ค่ารักษาพยาบาล 5,850,000 บาท',\n",
       " 'ข. แผนงานการพาณิชย์ของกรุงเทพมหานคร 127,818,700       บาท',\n",
       " '1. งานบริหารการตลาด 127,818,700     บาท',\n",
       " 'n. รายจ่ายพิเศษ 33,135,000 บาท',\n",
       " 'ก. งบกลาง 30,000,000         บาท',\n",
       " '1. เงินสำรองจ่ายท่ัวไป 30,000,000      บาท',\n",
       " 'ข. แผนงานการพาณิชย์ของกรุงเทพมหานคร 3,135,000           บาท',\n",
       " '1. งานบริหารการตลาด 3,135,000        บาท']"
      ]
     },
     "execution_count": 9,
     "metadata": {},
     "output_type": "execute_result"
    }
   ],
   "source": [
    "uu[-10:]"
   ]
  },
  {
   "cell_type": "code",
   "execution_count": 10,
   "metadata": {
    "colab": {},
    "colab_type": "code",
    "id": "ZnwHb7FmoPAk"
   },
   "outputs": [],
   "source": [
    "# ใส่อักษร b ขึ้นต้นประโยค  เมื่อไม่ได้ขึ้นต้นด้วย  ( และ ไม่มี ?<=\\. อยู่ในประโยค\n",
    "gh,ind=[],[]\n",
    "for i,g in enumerate(uu):\n",
    "    pattern=r\"(?<=\\.)\"\n",
    "    q=re.compile(pattern).search(g) \n",
    "    u=g.startswith('(')\n",
    "    if u==False and q==None:\n",
    "        xx='b'+g\n",
    "        ind.append(i-1)\n",
    "    else:\n",
    "        xx=g\n",
    "    # print(i,g,q,u)\n",
    "    # print('xx:',xx)\n",
    "    gh.append(xx)"
   ]
  },
  {
   "cell_type": "code",
   "execution_count": 11,
   "metadata": {
    "colab": {
     "base_uri": "https://localhost:8080/",
     "height": 138
    },
    "colab_type": "code",
    "id": "5wL1pisE-1uU",
    "outputId": "e4f7419c-f7f9-4076-d2b3-6b27d4a23986"
   },
   "outputs": [
    {
     "data": {
      "text/plain": [
       "['(1) งบกลาง รวม 14,878,887,438 บาท',\n",
       " '1. เงินสำรองจ่ายท่ัวไป 486,536,500           บาท',\n",
       " '1.1 กรณีฉุกเฉินหรือจำเป็น 100,000,000 บาท',\n",
       " '1.2 กรณีค่าใช้จ่ายต่าง ๆ เก่ียวกับน้ำท่วม 100,000,000 บาท',\n",
       " '1.3 กรณีค่าใช้จ่ายเพ่ือการพัฒนา',\n",
       " 'bกรุงเทพมหานคร 286,536,500 บาท',\n",
       " '2. เงินช่วยเหลือข้าราชการและลูกจ้าง 2,700,000,000 บาท']"
      ]
     },
     "execution_count": 11,
     "metadata": {},
     "output_type": "execute_result"
    }
   ],
   "source": [
    "gh[:7]"
   ]
  },
  {
   "cell_type": "code",
   "execution_count": 12,
   "metadata": {
    "colab": {},
    "colab_type": "code",
    "id": "KKn8EYdeobmc"
   },
   "outputs": [],
   "source": [
    "#รวมประโยคระหว่าประโยคทั่วไปและประโยคที่ขึ้นต้นด้วย b\n",
    "# เช่น '1.3 กรณีค่าใช้จ่ายเพ่ือการพัฒนา',\n",
    "#  'bกรุงเทพมหานคร 286,536,500 บาท'\n",
    "#  => 1.3 กรณีค่าใช้จ่ายเพ่ือการพัฒนากรุงเทพมหานคร 286,536,500 บาท\n",
    "for i,g in enumerate(gh):\n",
    "    # if i>0:\n",
    "      p=gh[i].startswith('b')\n",
    "      q=gh[i-1].startswith('b')\n",
    "      # print(i,g,p,q)\n",
    "      if p==True and q==False:\n",
    "          uu[i-1]=uu[i-1]+uu[i]\n",
    "          uu[i]=uu[i-1]\n",
    "      elif p==True and q==True:\n",
    "          uu[i-2]=uu[i-1]+uu[i]\n",
    "          uu[i-1]=uu[i-2]\n",
    "          uu[i]=uu[i-1]"
   ]
  },
  {
   "cell_type": "code",
   "execution_count": 13,
   "metadata": {
    "colab": {},
    "colab_type": "code",
    "id": "tUmWRWd7oeEu"
   },
   "outputs": [],
   "source": [
    "#ลบประโยคที่เหมือนกัน\n",
    "def my_function(x):\n",
    "  return list( dict.fromkeys(x) )\n",
    "mylist = my_function(uu)"
   ]
  },
  {
   "cell_type": "code",
   "execution_count": 14,
   "metadata": {
    "colab": {},
    "colab_type": "code",
    "id": "7_N0vwQum1ug"
   },
   "outputs": [],
   "source": [
    "# คัดเลือกเฉพาะประโยคที่มีแพตเทิน 000,000\n",
    "fi=[]\n",
    "for i,g in enumerate(mylist):\n",
    "  pattern=\"\\d{3},+\\d{3}\"\n",
    "  q=re.findall(pattern,g)\n",
    "  # print(i,g)\n",
    "  if q!=[] :\n",
    "    if g.startswith('k.')==False:\n",
    "       fi.append(g)\n",
    "   "
   ]
  },
  {
   "cell_type": "code",
   "execution_count": 15,
   "metadata": {
    "colab": {},
    "colab_type": "code",
    "id": "oRPcc6Hl_Wef"
   },
   "outputs": [],
   "source": [
    "# ใส่อักษร g,h,d,< ขึ้นต้นประโยค เมื่อประโยคขึ้นต้นด้วย ( ,ก.-ญ.,1.1-1.3,s,l,n และอื่นๆ เพื่อง่ายต่อการสร้างตาราง\n",
    "rt=[]\n",
    "for i,g in enumerate(fi):\n",
    "    # print(i,g)\n",
    "    if g.startswith('('):\n",
    "      x='h'+g\n",
    "      # print(x)\n",
    "    elif g.startswith('ก.') or g.startswith('ข.') or g.startswith('ค.') or g.startswith('ง.') or g.startswith('จ.') or g.startswith('ฉ.') or g.startswith('ช.') or g.startswith('ซ.') or g.startswith('ฌ.') or g.startswith('ญ.'):\n",
    "      x='g'+g\n",
    "      # print(x)\n",
    "    elif g.startswith('1.1') or g.startswith('1.2') or g.startswith('1.3') :\n",
    "      x='d'+g\n",
    "    elif g.startswith('s.') or g.startswith('l.') or g.startswith('n.'):\n",
    "      x=g\n",
    "    else:\n",
    "      x='<'+g\n",
    "      # print(x)\n",
    "    rt.append(x)"
   ]
  },
  {
   "cell_type": "code",
   "execution_count": 16,
   "metadata": {
    "colab": {
     "base_uri": "https://localhost:8080/",
     "height": 190
    },
    "colab_type": "code",
    "id": "I6o-veomSHrO",
    "outputId": "55f2bb8c-d1e7-4868-8771-c9a089384362"
   },
   "outputs": [
    {
     "name": "stdout",
     "output_type": "stream",
     "text": [
      "0 h(1) งบกลาง รวม 14,878,887,438 บาท\n",
      "1 <1. เงินสำรองจ่ายท่ัวไป 486,536,500           บาท\n",
      "2 d1.1 กรณีฉุกเฉินหรือจำเป็น 100,000,000 บาท\n",
      "3 d1.2 กรณีค่าใช้จ่ายต่าง ๆ เก่ียวกับน้ำท่วม 100,000,000 บาท\n",
      "4 d1.3 กรณีค่าใช้จ่ายเพ่ือการพัฒนากรุงเทพมหานคร 286,536,500 บาท\n",
      "5 <2. เงินช่วยเหลือข้าราชการและลูกจ้าง 2,700,000,000 บาท\n",
      "6 <3. เงินบำเหน็จลูกจ้าง 650,000,000 บาท\n",
      "7 <4. ค่าติดต้ังไฟฟ้าสาธารณะ 200,000,000 บาท\n",
      "8 <5. เงินสำรองสำหรับค่างาน ส่วนท่ีเพ่ิมตามสัญญา แบบปรับราคาได้ 20,000,000 บาท\n",
      "9 <6. เงินสำรองสำหรับค่าใช้จ่ายเก่ียวกับบุคลากร 300,000,000 บาท\n"
     ]
    }
   ],
   "source": [
    "# แสดงผล rt\n",
    "for i,g in enumerate(rt[:10]):\n",
    "  print(i,g)"
   ]
  },
  {
   "cell_type": "code",
   "execution_count": 17,
   "metadata": {
    "colab": {},
    "colab_type": "code",
    "id": "LwtfiK-hiw6a"
   },
   "outputs": [],
   "source": [
    "# สร้างตัวแปรเก็บข้อมูลเพื่อนำไปสร้างตาราง\n",
    "from collections import namedtuple\n",
    "Inv = namedtuple('Inv', 't t1 t2 t7')\n",
    "Line = namedtuple('Line', 'indx h1  h2 h3 h4 h5 h6 h7')"
   ]
  },
  {
   "cell_type": "code",
   "execution_count": 18,
   "metadata": {
    "colab": {},
    "colab_type": "code",
    "id": "jzE8qktEnr_C"
   },
   "outputs": [],
   "source": [
    "# ลบ !\"#$%&'()*+, -./:;<=>?@[\\]^_`{|}~ และ h ออกจากประโยค\n",
    "import string\n",
    "def remove_h(sentences):\n",
    "    sentence = re.sub('[%s]' % re.escape(string.punctuation), '', sentences)\n",
    "    sentence = re.sub(r\"h\",'',  sentence)\n",
    "    return sentence\n",
    "round2 = lambda x: remove_h(x)"
   ]
  },
  {
   "cell_type": "code",
   "execution_count": 25,
   "metadata": {
    "colab": {
     "base_uri": "https://localhost:8080/",
     "height": 138
    },
    "colab_type": "code",
    "id": "2_FYdwVF7YhP",
    "outputId": "7ffb3a7f-d3d0-4d2c-801b-b2dbd1f0cdc4"
   },
   "outputs": [
    {
     "data": {
      "text/html": [
       "<div>\n",
       "<style scoped>\n",
       "    .dataframe tbody tr th:only-of-type {\n",
       "        vertical-align: middle;\n",
       "    }\n",
       "\n",
       "    .dataframe tbody tr th {\n",
       "        vertical-align: top;\n",
       "    }\n",
       "\n",
       "    .dataframe thead th {\n",
       "        text-align: right;\n",
       "    }\n",
       "</style>\n",
       "<table border=\"1\" class=\"dataframe\">\n",
       "  <thead>\n",
       "    <tr style=\"text-align: right;\">\n",
       "      <th></th>\n",
       "      <th>Index</th>\n",
       "      <th>หน่วยงาน</th>\n",
       "      <th>รายจ่ายหน่วยงาน</th>\n",
       "      <th>งบประมาณ</th>\n",
       "    </tr>\n",
       "  </thead>\n",
       "  <tbody>\n",
       "    <tr>\n",
       "      <th>0</th>\n",
       "      <td>1</td>\n",
       "      <td>งบกลาง</td>\n",
       "      <td>14,878,887,438</td>\n",
       "      <td>กรุงเทพมหานคร</td>\n",
       "    </tr>\n",
       "    <tr>\n",
       "      <th>1</th>\n",
       "      <td>2</td>\n",
       "      <td>สำนักงานเลขานุการสภากรุงเทพมหานคร</td>\n",
       "      <td>82,258,900</td>\n",
       "      <td>กรุงเทพมหานคร</td>\n",
       "    </tr>\n",
       "    <tr>\n",
       "      <th>2</th>\n",
       "      <td>3</td>\n",
       "      <td>สำนักงานเลขานุการผู้ว่าราชการกรุงเทพมหานคร</td>\n",
       "      <td>70,920,000</td>\n",
       "      <td>กรุงเทพมหานคร</td>\n",
       "    </tr>\n",
       "  </tbody>\n",
       "</table>\n",
       "</div>"
      ],
      "text/plain": [
       "  Index                                    หน่วยงาน รายจ่ายหน่วยงาน  \\\n",
       "0     1                                      งบกลาง  14,878,887,438   \n",
       "1     2           สำนักงานเลขานุการสภากรุงเทพมหานคร      82,258,900   \n",
       "2     3  สำนักงานเลขานุการผู้ว่าราชการกรุงเทพมหานคร      70,920,000   \n",
       "\n",
       "        งบประมาณ  \n",
       "0  กรุงเทพมหานคร  \n",
       "1  กรุงเทพมหานคร  \n",
       "2  กรุงเทพมหานคร  "
      ]
     },
     "execution_count": 25,
     "metadata": {},
     "output_type": "execute_result"
    }
   ],
   "source": [
    "# สร้างตารางของหน่วยงานโดยเลือกจากประโยคที่นำหน้าด้วย h\n",
    "jk=[]\n",
    "t7='กรุงเทพมหานคร'\n",
    "for liness in rt:  \n",
    "    if  liness.startswith('h'):\n",
    "        t=liness.split()[0]\n",
    "        t1=liness.split()[1]\n",
    "        t2=liness.split()[-2]\n",
    "        if t1=='สำนักงานสถานธนานุบาลกรุงเทพมหานคร' or t1=='สำนักงานตลาดกรุงเทพมหานคร':\n",
    "            t7='การพาณิชย์ของกรุงเทพมหานคร' \n",
    "        jk.append(Inv(t,t1,t2,t7))   \n",
    "hk=pd.DataFrame(jk,columns=['Index','หน่วยงาน','รายจ่ายหน่วยงาน','งบประมาณ'])\n",
    "hk['Index']=hk['Index'].map(str)\n",
    "hk['Index']= hk['Index'].apply(round2)\n",
    "hk.head(3)\n",
    "\n",
    "# hk.to_csv('h.csv')"
   ]
  },
  {
   "cell_type": "code",
   "execution_count": 20,
   "metadata": {
    "colab": {},
    "colab_type": "code",
    "id": "xJLkZ7RLzLYm"
   },
   "outputs": [],
   "source": [
    "# กำหนดโครงสร้างของตารางจากตักอักษรขึ้นต้น\n",
    "lines=[]\n",
    "indx='nan'\n",
    "h1,h2,h3,h4,h5,h6,h7='nan','nan','งบกลาง','งบกลาง','nan','nan','กรุงเทพมหานคร'\n",
    "for line in rt:\n",
    "    if  line.startswith('h'):\n",
    "        indx=line.split()[0]\n",
    "        h1=line.split()[1]\n",
    "        h2=line.split()[-2]\n",
    "        # print(h1)\n",
    "        if h1=='สำนักงานสถานธนานุบาลกรุงเทพมหานคร' or h1=='สำนักงานตลาดกรุงเทพมหานคร':\n",
    "            h7='การพาณิชย์ของกรุงเทพมหานคร' \n",
    "        # print(line.split())\n",
    "    elif   line.startswith('g'):\n",
    "        h3=line.split()[1]\n",
    "    elif  line.startswith('n'):\n",
    "        h4=line.split()[1]\n",
    "    elif  line.startswith('<'):\n",
    "        h5=line.split()[1:-2]\n",
    "        # print(line.split())\n",
    "        h6=line.split()[-2]\n",
    "        # print(indx,h1,h2,h3, h4,h5,h6, h7)       \n",
    "        lines.append(Line(indx,h1,h2,h3, h4,h5,h6, h7))    "
   ]
  },
  {
   "cell_type": "code",
   "execution_count": 21,
   "metadata": {
    "colab": {
     "base_uri": "https://localhost:8080/",
     "height": 108
    },
    "colab_type": "code",
    "id": "4MvGwf83sBBb",
    "outputId": "9ccf9aa0-2306-408b-b0e8-94271d08178e"
   },
   "outputs": [
    {
     "data": {
      "text/html": [
       "<div>\n",
       "<style scoped>\n",
       "    .dataframe tbody tr th:only-of-type {\n",
       "        vertical-align: middle;\n",
       "    }\n",
       "\n",
       "    .dataframe tbody tr th {\n",
       "        vertical-align: top;\n",
       "    }\n",
       "\n",
       "    .dataframe thead th {\n",
       "        text-align: right;\n",
       "    }\n",
       "</style>\n",
       "<table border=\"1\" class=\"dataframe\">\n",
       "  <thead>\n",
       "    <tr style=\"text-align: right;\">\n",
       "      <th></th>\n",
       "      <th>Index</th>\n",
       "      <th>หน่วยงาน</th>\n",
       "      <th>รายจ่ายหน่วยงาน</th>\n",
       "      <th>แผนงาน</th>\n",
       "      <th>ประเภทรายจ่าย</th>\n",
       "      <th>โครงการ</th>\n",
       "      <th>รายจ่ายโครงการ</th>\n",
       "      <th>งบประมาณ</th>\n",
       "    </tr>\n",
       "  </thead>\n",
       "  <tbody>\n",
       "    <tr>\n",
       "      <th>0</th>\n",
       "      <td>h(1)</td>\n",
       "      <td>งบกลาง</td>\n",
       "      <td>14,878,887,438</td>\n",
       "      <td>งบกลาง</td>\n",
       "      <td>งบกลาง</td>\n",
       "      <td>[เงินสำรองจ่ายท่ัวไป]</td>\n",
       "      <td>486,536,500</td>\n",
       "      <td>กรุงเทพมหานคร</td>\n",
       "    </tr>\n",
       "    <tr>\n",
       "      <th>1</th>\n",
       "      <td>h(1)</td>\n",
       "      <td>งบกลาง</td>\n",
       "      <td>14,878,887,438</td>\n",
       "      <td>งบกลาง</td>\n",
       "      <td>งบกลาง</td>\n",
       "      <td>[เงินช่วยเหลือข้าราชการและลูกจ้าง]</td>\n",
       "      <td>2,700,000,000</td>\n",
       "      <td>กรุงเทพมหานคร</td>\n",
       "    </tr>\n",
       "  </tbody>\n",
       "</table>\n",
       "</div>"
      ],
      "text/plain": [
       "  Index หน่วยงาน รายจ่ายหน่วยงาน  แผนงาน ประเภทรายจ่าย  \\\n",
       "0  h(1)   งบกลาง  14,878,887,438  งบกลาง        งบกลาง   \n",
       "1  h(1)   งบกลาง  14,878,887,438  งบกลาง        งบกลาง   \n",
       "\n",
       "                              โครงการ รายจ่ายโครงการ       งบประมาณ  \n",
       "0               [เงินสำรองจ่ายท่ัวไป]    486,536,500  กรุงเทพมหานคร  \n",
       "1  [เงินช่วยเหลือข้าราชการและลูกจ้าง]  2,700,000,000  กรุงเทพมหานคร  "
      ]
     },
     "execution_count": 21,
     "metadata": {},
     "output_type": "execute_result"
    }
   ],
   "source": [
    "# สร้างตาราง\n",
    "df = pd.DataFrame(lines,columns=['Index','หน่วยงาน','รายจ่ายหน่วยงาน','แผนงาน','ประเภทรายจ่าย','โครงการ','รายจ่ายโครงการ','งบประมาณ'])\n",
    "# df = pd.DataFrame(lines)\n",
    "df.head(2)"
   ]
  },
  {
   "cell_type": "code",
   "execution_count": 22,
   "metadata": {
    "colab": {},
    "colab_type": "code",
    "id": "4skVD_BIPwaL"
   },
   "outputs": [],
   "source": [
    "# เชื่อมคำในคอลัมภ์โครงการ\n",
    "def str_join(list): \n",
    "  return \"\".join(list)\n",
    "round1 = lambda x: str_join(x)\n",
    "df['โครงการ']= pd.DataFrame(df['โครงการ'].apply(round1))"
   ]
  },
  {
   "cell_type": "code",
   "execution_count": 33,
   "metadata": {
    "colab": {
     "base_uri": "https://localhost:8080/",
     "height": 198
    },
    "colab_type": "code",
    "id": "Lip8vIavm8A5",
    "outputId": "d8383eab-c646-469d-a3b7-31ebecf8bca8"
   },
   "outputs": [
    {
     "data": {
      "text/html": [
       "<div>\n",
       "<style scoped>\n",
       "    .dataframe tbody tr th:only-of-type {\n",
       "        vertical-align: middle;\n",
       "    }\n",
       "\n",
       "    .dataframe tbody tr th {\n",
       "        vertical-align: top;\n",
       "    }\n",
       "\n",
       "    .dataframe thead th {\n",
       "        text-align: right;\n",
       "    }\n",
       "</style>\n",
       "<table border=\"1\" class=\"dataframe\">\n",
       "  <thead>\n",
       "    <tr style=\"text-align: right;\">\n",
       "      <th></th>\n",
       "      <th>Index</th>\n",
       "      <th>หน่วยงาน</th>\n",
       "      <th>รายจ่ายหน่วยงาน</th>\n",
       "      <th>แผนงาน</th>\n",
       "      <th>ประเภทรายจ่าย</th>\n",
       "      <th>โครงการ</th>\n",
       "      <th>รายจ่ายโครงการ</th>\n",
       "      <th>งบประมาณ</th>\n",
       "    </tr>\n",
       "  </thead>\n",
       "  <tbody>\n",
       "    <tr>\n",
       "      <th>1006</th>\n",
       "      <td>2</td>\n",
       "      <td>สำนักงานตลาดกรุงเทพมหานคร</td>\n",
       "      <td>167267000</td>\n",
       "      <td>งบกลาง</td>\n",
       "      <td>รายจ่ายประจำ</td>\n",
       "      <td>เงินช่วยเหลือค่าเล่าเรียนบุตร</td>\n",
       "      <td>463300</td>\n",
       "      <td>การพาณิชย์ของกรุงเทพมหานคร</td>\n",
       "    </tr>\n",
       "    <tr>\n",
       "      <th>1007</th>\n",
       "      <td>2</td>\n",
       "      <td>สำนักงานตลาดกรุงเทพมหานคร</td>\n",
       "      <td>167267000</td>\n",
       "      <td>งบกลาง</td>\n",
       "      <td>รายจ่ายประจำ</td>\n",
       "      <td>เงินช่วยเหลือค่ารักษาพยาบาล</td>\n",
       "      <td>5850000</td>\n",
       "      <td>การพาณิชย์ของกรุงเทพมหานคร</td>\n",
       "    </tr>\n",
       "    <tr>\n",
       "      <th>1008</th>\n",
       "      <td>2</td>\n",
       "      <td>สำนักงานตลาดกรุงเทพมหานคร</td>\n",
       "      <td>167267000</td>\n",
       "      <td>แผนงานการพาณิชย์ของกรุงเทพมหานคร</td>\n",
       "      <td>รายจ่ายประจำ</td>\n",
       "      <td>งานบริหารการตลาด</td>\n",
       "      <td>127818700</td>\n",
       "      <td>การพาณิชย์ของกรุงเทพมหานคร</td>\n",
       "    </tr>\n",
       "    <tr>\n",
       "      <th>1009</th>\n",
       "      <td>2</td>\n",
       "      <td>สำนักงานตลาดกรุงเทพมหานคร</td>\n",
       "      <td>167267000</td>\n",
       "      <td>งบกลาง</td>\n",
       "      <td>รายจ่ายพิเศษ</td>\n",
       "      <td>เงินสำรองจ่ายท่ัวไป</td>\n",
       "      <td>30000000</td>\n",
       "      <td>การพาณิชย์ของกรุงเทพมหานคร</td>\n",
       "    </tr>\n",
       "    <tr>\n",
       "      <th>1010</th>\n",
       "      <td>2</td>\n",
       "      <td>สำนักงานตลาดกรุงเทพมหานคร</td>\n",
       "      <td>167267000</td>\n",
       "      <td>แผนงานการพาณิชย์ของกรุงเทพมหานคร</td>\n",
       "      <td>รายจ่ายพิเศษ</td>\n",
       "      <td>งานบริหารการตลาด</td>\n",
       "      <td>3135000</td>\n",
       "      <td>การพาณิชย์ของกรุงเทพมหานคร</td>\n",
       "    </tr>\n",
       "  </tbody>\n",
       "</table>\n",
       "</div>"
      ],
      "text/plain": [
       "     Index                   หน่วยงาน รายจ่ายหน่วยงาน  \\\n",
       "1006     2  สำนักงานตลาดกรุงเทพมหานคร       167267000   \n",
       "1007     2  สำนักงานตลาดกรุงเทพมหานคร       167267000   \n",
       "1008     2  สำนักงานตลาดกรุงเทพมหานคร       167267000   \n",
       "1009     2  สำนักงานตลาดกรุงเทพมหานคร       167267000   \n",
       "1010     2  สำนักงานตลาดกรุงเทพมหานคร       167267000   \n",
       "\n",
       "                                แผนงาน ประเภทรายจ่าย  \\\n",
       "1006                            งบกลาง  รายจ่ายประจำ   \n",
       "1007                            งบกลาง  รายจ่ายประจำ   \n",
       "1008  แผนงานการพาณิชย์ของกรุงเทพมหานคร  รายจ่ายประจำ   \n",
       "1009                            งบกลาง  รายจ่ายพิเศษ   \n",
       "1010  แผนงานการพาณิชย์ของกรุงเทพมหานคร  รายจ่ายพิเศษ   \n",
       "\n",
       "                            โครงการ รายจ่ายโครงการ                    งบประมาณ  \n",
       "1006  เงินช่วยเหลือค่าเล่าเรียนบุตร         463300  การพาณิชย์ของกรุงเทพมหานคร  \n",
       "1007    เงินช่วยเหลือค่ารักษาพยาบาล        5850000  การพาณิชย์ของกรุงเทพมหานคร  \n",
       "1008               งานบริหารการตลาด      127818700  การพาณิชย์ของกรุงเทพมหานคร  \n",
       "1009            เงินสำรองจ่ายท่ัวไป       30000000  การพาณิชย์ของกรุงเทพมหานคร  \n",
       "1010               งานบริหารการตลาด        3135000  การพาณิชย์ของกรุงเทพมหานคร  "
      ]
     },
     "execution_count": 33,
     "metadata": {},
     "output_type": "execute_result"
    }
   ],
   "source": [
    "# ลบ !\"#$%&'()*+, -./:;<=>?@[\\]^_`{|}~ และ h ในคอลัมภ์ Index,รายจ่ายหน่วยงาน และรายจ่ายโครงการ\n",
    "df['Index']=df['Index'].map(str)\n",
    "df['รายจ่ายหน่วยงาน']=df['รายจ่ายหน่วยงาน'].map(str)\n",
    "df['รายจ่ายโครงการ']=df['รายจ่ายโครงการ'].map(str)\n",
    "df['รายจ่ายหน่วยงาน']= df['รายจ่ายหน่วยงาน'].apply(round2)\n",
    "df['รายจ่ายโครงการ']= df['รายจ่ายโครงการ'].apply(round2)\n",
    "df.tail(5)"
   ]
  },
  {
   "cell_type": "code",
   "execution_count": 27,
   "metadata": {
    "colab": {
     "base_uri": "https://localhost:8080/",
     "height": 198
    },
    "colab_type": "code",
    "id": "ZdA_zxumufff",
    "outputId": "ba160432-4b9b-4787-d44e-3df0e1fb17f9"
   },
   "outputs": [
    {
     "data": {
      "text/html": [
       "<div>\n",
       "<style scoped>\n",
       "    .dataframe tbody tr th:only-of-type {\n",
       "        vertical-align: middle;\n",
       "    }\n",
       "\n",
       "    .dataframe tbody tr th {\n",
       "        vertical-align: top;\n",
       "    }\n",
       "\n",
       "    .dataframe thead th {\n",
       "        text-align: right;\n",
       "    }\n",
       "</style>\n",
       "<table border=\"1\" class=\"dataframe\">\n",
       "  <thead>\n",
       "    <tr style=\"text-align: right;\">\n",
       "      <th></th>\n",
       "      <th>Index</th>\n",
       "      <th>หน่วยงาน</th>\n",
       "      <th>รายจ่ายหน่วยงาน</th>\n",
       "      <th>แผนงาน</th>\n",
       "      <th>ประเภทรายจ่าย</th>\n",
       "      <th>โครงการ</th>\n",
       "      <th>รายจ่ายโครงการ</th>\n",
       "      <th>งบประมาณ</th>\n",
       "    </tr>\n",
       "  </thead>\n",
       "  <tbody>\n",
       "    <tr>\n",
       "      <th>1007</th>\n",
       "      <td>2</td>\n",
       "      <td>สำนักงานตลาดกรุงเทพมหานคร</td>\n",
       "      <td>167267000</td>\n",
       "      <td>งบกลาง</td>\n",
       "      <td>รายจ่ายประจำ</td>\n",
       "      <td>เงินช่วยเหลือค่ารักษาพยาบาล</td>\n",
       "      <td>5,850,000</td>\n",
       "      <td>การพาณิชย์ของกรุงเทพมหานคร</td>\n",
       "    </tr>\n",
       "    <tr>\n",
       "      <th>1008</th>\n",
       "      <td>2</td>\n",
       "      <td>สำนักงานตลาดกรุงเทพมหานคร</td>\n",
       "      <td>167267000</td>\n",
       "      <td>แผนงานการพาณิชย์ของกรุงเทพมหานคร</td>\n",
       "      <td>รายจ่ายประจำ</td>\n",
       "      <td>งานบริหารการตลาด</td>\n",
       "      <td>127,818,700</td>\n",
       "      <td>การพาณิชย์ของกรุงเทพมหานคร</td>\n",
       "    </tr>\n",
       "    <tr>\n",
       "      <th>1009</th>\n",
       "      <td>2</td>\n",
       "      <td>สำนักงานตลาดกรุงเทพมหานคร</td>\n",
       "      <td>167267000</td>\n",
       "      <td>งบกลาง</td>\n",
       "      <td>รายจ่ายพิเศษ</td>\n",
       "      <td>เงินสำรองจ่ายท่ัวไป</td>\n",
       "      <td>30,000,000</td>\n",
       "      <td>การพาณิชย์ของกรุงเทพมหานคร</td>\n",
       "    </tr>\n",
       "    <tr>\n",
       "      <th>1010</th>\n",
       "      <td>2</td>\n",
       "      <td>สำนักงานตลาดกรุงเทพมหานคร</td>\n",
       "      <td>167267000</td>\n",
       "      <td>แผนงานการพาณิชย์ของกรุงเทพมหานคร</td>\n",
       "      <td>รายจ่ายพิเศษ</td>\n",
       "      <td>งานบริหารการตลาด</td>\n",
       "      <td>3,135,000</td>\n",
       "      <td>การพาณิชย์ของกรุงเทพมหานคร</td>\n",
       "    </tr>\n",
       "    <tr>\n",
       "      <th>1011</th>\n",
       "      <td>3</td>\n",
       "      <td>สำนักงานพัฒนาที่อยู่อาศัย</td>\n",
       "      <td>5411000</td>\n",
       "      <td>แผนงานการพาณิชย์ของกรุงเทพมหานคร</td>\n",
       "      <td>รายจ่ายประจำ</td>\n",
       "      <td>งานบริหารการพัฒนาที่อยู่อาศัย</td>\n",
       "      <td>5411000</td>\n",
       "      <td>การพาณิชย์ของกรุงเทพมหานคร</td>\n",
       "    </tr>\n",
       "  </tbody>\n",
       "</table>\n",
       "</div>"
      ],
      "text/plain": [
       "     Index                   หน่วยงาน รายจ่ายหน่วยงาน  \\\n",
       "1007     2  สำนักงานตลาดกรุงเทพมหานคร       167267000   \n",
       "1008     2  สำนักงานตลาดกรุงเทพมหานคร       167267000   \n",
       "1009     2  สำนักงานตลาดกรุงเทพมหานคร       167267000   \n",
       "1010     2  สำนักงานตลาดกรุงเทพมหานคร       167267000   \n",
       "1011     3  สำนักงานพัฒนาที่อยู่อาศัย         5411000   \n",
       "\n",
       "                                แผนงาน ประเภทรายจ่าย  \\\n",
       "1007                            งบกลาง  รายจ่ายประจำ   \n",
       "1008  แผนงานการพาณิชย์ของกรุงเทพมหานคร  รายจ่ายประจำ   \n",
       "1009                            งบกลาง  รายจ่ายพิเศษ   \n",
       "1010  แผนงานการพาณิชย์ของกรุงเทพมหานคร  รายจ่ายพิเศษ   \n",
       "1011  แผนงานการพาณิชย์ของกรุงเทพมหานคร  รายจ่ายประจำ   \n",
       "\n",
       "                            โครงการ รายจ่ายโครงการ                    งบประมาณ  \n",
       "1007    เงินช่วยเหลือค่ารักษาพยาบาล      5,850,000  การพาณิชย์ของกรุงเทพมหานคร  \n",
       "1008               งานบริหารการตลาด    127,818,700  การพาณิชย์ของกรุงเทพมหานคร  \n",
       "1009            เงินสำรองจ่ายท่ัวไป     30,000,000  การพาณิชย์ของกรุงเทพมหานคร  \n",
       "1010               งานบริหารการตลาด      3,135,000  การพาณิชย์ของกรุงเทพมหานคร  \n",
       "1011  งานบริหารการพัฒนาที่อยู่อาศัย        5411000  การพาณิชย์ของกรุงเทพมหานคร  "
      ]
     },
     "execution_count": 27,
     "metadata": {},
     "output_type": "execute_result"
    }
   ],
   "source": [
    "# เพิ่มข้อมูลเนื่องจากใน pdf เป็นรูปภาพ\n",
    "\n",
    "to_append = [3,'สำนักงานพัฒนาที่อยู่อาศัย',int(5411000),'แผนงานการพาณิชย์ของกรุงเทพมหานคร','รายจ่ายประจำ','งานบริหารการพัฒนาที่อยู่อาศัย',int(5411000),'การพาณิชย์ของกรุงเทพมหานคร']\n",
    "a_series = pd.Series(to_append, index = df.columns)\n",
    "df1 = df.append(a_series, ignore_index=True)\n",
    "\n",
    "df1.tail(5)"
   ]
  },
  {
   "cell_type": "code",
   "execution_count": 34,
   "metadata": {
    "colab": {},
    "colab_type": "code",
    "id": "s0Ef7Xw-JlI5"
   },
   "outputs": [],
   "source": [
    "df1.to_csv('df1.csv')"
   ]
  }
 ],
 "metadata": {
  "accelerator": "TPU",
  "colab": {
   "name": "1_bangkok_final.ipynb",
   "provenance": []
  },
  "interpreter": {
   "hash": "a81ce03e423a1e9e483631ad9905a99b691587228ac3a8b5f05d5eb9a5ab653e"
  },
  "kernelspec": {
   "display_name": "Python 3.8.5 ('base')",
   "language": "python",
   "name": "python3"
  },
  "language_info": {
   "codemirror_mode": {
    "name": "ipython",
    "version": 3
   },
   "file_extension": ".py",
   "mimetype": "text/x-python",
   "name": "python",
   "nbconvert_exporter": "python",
   "pygments_lexer": "ipython3",
   "version": "3.8.5"
  }
 },
 "nbformat": 4,
 "nbformat_minor": 1
}
