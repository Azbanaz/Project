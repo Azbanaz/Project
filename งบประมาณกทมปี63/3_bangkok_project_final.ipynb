{
 "cells": [
  {
   "cell_type": "markdown",
   "metadata": {},
   "source": [
    "# งบประมาณของกทมประจำปี 2563_keyword"
   ]
  },
  {
   "cell_type": "markdown",
   "metadata": {
    "colab_type": "text",
    "id": "swYolGOYeDGo"
   },
   "source": [
    "เมื่อได้ keyword จาก wordcould  แล้วใช้คำเหล่านี้เพื่อหาโครงการและงบประมาณโดยทำการสร้างตารางเพิ่ม"
   ]
  },
  {
   "cell_type": "code",
   "execution_count": 1,
   "metadata": {
    "colab": {},
    "colab_type": "code",
    "id": "Oe1dG6lfIK0C"
   },
   "outputs": [],
   "source": [
    "import pandas as pd\n",
    "import numpy as np\n",
    "import re"
   ]
  },
  {
   "cell_type": "code",
   "execution_count": 2,
   "metadata": {
    "colab": {
     "base_uri": "https://localhost:8080/",
     "height": 207
    },
    "colab_type": "code",
    "id": "u3sUqs4jLvZw",
    "outputId": "b233003e-d846-45e6-a8b0-aa98f6db3765"
   },
   "outputs": [
    {
     "data": {
      "text/html": [
       "<div>\n",
       "<style scoped>\n",
       "    .dataframe tbody tr th:only-of-type {\n",
       "        vertical-align: middle;\n",
       "    }\n",
       "\n",
       "    .dataframe tbody tr th {\n",
       "        vertical-align: top;\n",
       "    }\n",
       "\n",
       "    .dataframe thead th {\n",
       "        text-align: right;\n",
       "    }\n",
       "</style>\n",
       "<table border=\"1\" class=\"dataframe\">\n",
       "  <thead>\n",
       "    <tr style=\"text-align: right;\">\n",
       "      <th></th>\n",
       "      <th>Unnamed: 0</th>\n",
       "      <th>Index</th>\n",
       "      <th>หน่วยงาน</th>\n",
       "      <th>รายจ่ายหน่วยงาน</th>\n",
       "      <th>แผนงาน</th>\n",
       "      <th>ประเภทรายจ่าย</th>\n",
       "      <th>โครงการ</th>\n",
       "      <th>รายจ่ายโครงการ</th>\n",
       "      <th>งบประมาณ</th>\n",
       "    </tr>\n",
       "  </thead>\n",
       "  <tbody>\n",
       "    <tr>\n",
       "      <th>0</th>\n",
       "      <td>0</td>\n",
       "      <td>1</td>\n",
       "      <td>งบกลาง</td>\n",
       "      <td>14878887438</td>\n",
       "      <td>งบกลาง</td>\n",
       "      <td>งบกลาง</td>\n",
       "      <td>เงินสำรองจ่ายท่ัวไป</td>\n",
       "      <td>486,536,500</td>\n",
       "      <td>กรุงเทพมหานคร</td>\n",
       "    </tr>\n",
       "    <tr>\n",
       "      <th>1</th>\n",
       "      <td>1</td>\n",
       "      <td>1</td>\n",
       "      <td>งบกลาง</td>\n",
       "      <td>14878887438</td>\n",
       "      <td>งบกลาง</td>\n",
       "      <td>งบกลาง</td>\n",
       "      <td>เงินช่วยเหลือข้าราชการและลูกจ้าง</td>\n",
       "      <td>2,700,000,000</td>\n",
       "      <td>กรุงเทพมหานคร</td>\n",
       "    </tr>\n",
       "    <tr>\n",
       "      <th>2</th>\n",
       "      <td>2</td>\n",
       "      <td>1</td>\n",
       "      <td>งบกลาง</td>\n",
       "      <td>14878887438</td>\n",
       "      <td>งบกลาง</td>\n",
       "      <td>งบกลาง</td>\n",
       "      <td>เงินบำเหน็จลูกจ้าง</td>\n",
       "      <td>650,000,000</td>\n",
       "      <td>กรุงเทพมหานคร</td>\n",
       "    </tr>\n",
       "    <tr>\n",
       "      <th>3</th>\n",
       "      <td>3</td>\n",
       "      <td>1</td>\n",
       "      <td>งบกลาง</td>\n",
       "      <td>14878887438</td>\n",
       "      <td>งบกลาง</td>\n",
       "      <td>งบกลาง</td>\n",
       "      <td>ค่าติดต้ังไฟฟ้าสาธารณะ</td>\n",
       "      <td>200,000,000</td>\n",
       "      <td>กรุงเทพมหานคร</td>\n",
       "    </tr>\n",
       "    <tr>\n",
       "      <th>4</th>\n",
       "      <td>4</td>\n",
       "      <td>1</td>\n",
       "      <td>งบกลาง</td>\n",
       "      <td>14878887438</td>\n",
       "      <td>งบกลาง</td>\n",
       "      <td>งบกลาง</td>\n",
       "      <td>เงินสำรองสำหรับค่างานส่วนท่ีเพ่ิมตามสัญญาแบบปร...</td>\n",
       "      <td>20,000,000</td>\n",
       "      <td>กรุงเทพมหานคร</td>\n",
       "    </tr>\n",
       "  </tbody>\n",
       "</table>\n",
       "</div>"
      ],
      "text/plain": [
       "   Unnamed: 0  Index หน่วยงาน  รายจ่ายหน่วยงาน  แผนงาน ประเภทรายจ่าย  \\\n",
       "0           0      1   งบกลาง      14878887438  งบกลาง        งบกลาง   \n",
       "1           1      1   งบกลาง      14878887438  งบกลาง        งบกลาง   \n",
       "2           2      1   งบกลาง      14878887438  งบกลาง        งบกลาง   \n",
       "3           3      1   งบกลาง      14878887438  งบกลาง        งบกลาง   \n",
       "4           4      1   งบกลาง      14878887438  งบกลาง        งบกลาง   \n",
       "\n",
       "                                             โครงการ รายจ่ายโครงการ  \\\n",
       "0                                เงินสำรองจ่ายท่ัวไป    486,536,500   \n",
       "1                   เงินช่วยเหลือข้าราชการและลูกจ้าง  2,700,000,000   \n",
       "2                                 เงินบำเหน็จลูกจ้าง    650,000,000   \n",
       "3                             ค่าติดต้ังไฟฟ้าสาธารณะ    200,000,000   \n",
       "4  เงินสำรองสำหรับค่างานส่วนท่ีเพ่ิมตามสัญญาแบบปร...     20,000,000   \n",
       "\n",
       "        งบประมาณ  \n",
       "0  กรุงเทพมหานคร  \n",
       "1  กรุงเทพมหานคร  \n",
       "2  กรุงเทพมหานคร  \n",
       "3  กรุงเทพมหานคร  \n",
       "4  กรุงเทพมหานคร  "
      ]
     },
     "execution_count": 2,
     "metadata": {},
     "output_type": "execute_result"
    }
   ],
   "source": [
    "# ดาว์โหลดไฟล์ csv  จาก 1_bangkok_final\n",
    "df = pd.read_csv('./df1.csv')\n",
    "df.head(5)"
   ]
  },
  {
   "cell_type": "code",
   "execution_count": 3,
   "metadata": {},
   "outputs": [
    {
     "data": {
      "text/plain": [
       "Index(['Unnamed: 0', 'Index', 'หน่วยงาน', 'รายจ่ายหน่วยงาน', 'แผนงาน',\n",
       "       'ประเภทรายจ่าย', 'โครงการ', 'รายจ่ายโครงการ', 'งบประมาณ'],\n",
       "      dtype='object')"
      ]
     },
     "execution_count": 3,
     "metadata": {},
     "output_type": "execute_result"
    }
   ],
   "source": [
    "df.columns"
   ]
  },
  {
   "cell_type": "code",
   "execution_count": 4,
   "metadata": {
    "colab": {
     "base_uri": "https://localhost:8080/",
     "height": 207
    },
    "colab_type": "code",
    "id": "bnee2rFoVM8P",
    "outputId": "47d05351-8385-439b-94f5-a096d29037a8"
   },
   "outputs": [
    {
     "name": "stdout",
     "output_type": "stream",
     "text": [
      ".*(งานบริหาร).*\n",
      ".*(ก่อสร้าง).*\n",
      ".*(ระบบ).*\n",
      ".*(ควบคุม).*\n",
      ".*(ถนน).*\n",
      ".*(พัฒนา).*\n",
      ".*(คลอง).*\n",
      ".*(บำรุงรักษา).*\n",
      ".*(ระบายน้ำ).*\n",
      ".*(การคลัง).*\n",
      ".*(น้ำ).*\n"
     ]
    }
   ],
   "source": [
    "# ใช้ keyword ในการหาคำในตารางแล้วสร้างคอลัมภ์ใหม่\n",
    "keyword=['งานบริหาร','ก่อสร้าง','ระบบ','ควบคุม','ถนน','พัฒนา','คลอง','บำรุงรักษา','ระบายน้ำ','การคลัง','น้ำ']\n",
    "\n",
    "m=[]\n",
    "for i,word in enumerate(keyword):\n",
    "    match_pattern = \".*({}).*\".format(word)\n",
    "    print(match_pattern )\n",
    "    col=[]\n",
    "    for index, row in df.iterrows():\n",
    "        g=re.compile(match_pattern).search(row['โครงการ'])\n",
    "        # print(g)\n",
    "        if  g != None :\n",
    "          k=word\n",
    "        else:\n",
    "          k='โครงการอื่น'\n",
    "        col.append(k)\n",
    "    m.append(col)"
   ]
  },
  {
   "cell_type": "code",
   "execution_count": 5,
   "metadata": {
    "colab": {
     "base_uri": "https://localhost:8080/",
     "height": 138
    },
    "colab_type": "code",
    "id": "MzBezdwmdbgP",
    "outputId": "674e52b7-656d-49b2-c43e-3653b3511b98"
   },
   "outputs": [
    {
     "data": {
      "text/html": [
       "<div>\n",
       "<style scoped>\n",
       "    .dataframe tbody tr th:only-of-type {\n",
       "        vertical-align: middle;\n",
       "    }\n",
       "\n",
       "    .dataframe tbody tr th {\n",
       "        vertical-align: top;\n",
       "    }\n",
       "\n",
       "    .dataframe thead th {\n",
       "        text-align: right;\n",
       "    }\n",
       "</style>\n",
       "<table border=\"1\" class=\"dataframe\">\n",
       "  <thead>\n",
       "    <tr style=\"text-align: right;\">\n",
       "      <th></th>\n",
       "      <th>งานบริหาร</th>\n",
       "      <th>ก่อสร้าง</th>\n",
       "      <th>ระบบ</th>\n",
       "      <th>ควบคุม</th>\n",
       "      <th>ถนน</th>\n",
       "      <th>พัฒนา</th>\n",
       "      <th>คลอง</th>\n",
       "      <th>บำรุงรักษา</th>\n",
       "      <th>ระบายน้ำ</th>\n",
       "      <th>การคลัง</th>\n",
       "      <th>น้ำ</th>\n",
       "    </tr>\n",
       "  </thead>\n",
       "  <tbody>\n",
       "    <tr>\n",
       "      <th>0</th>\n",
       "      <td>โครงการอื่น</td>\n",
       "      <td>โครงการอื่น</td>\n",
       "      <td>โครงการอื่น</td>\n",
       "      <td>โครงการอื่น</td>\n",
       "      <td>โครงการอื่น</td>\n",
       "      <td>โครงการอื่น</td>\n",
       "      <td>โครงการอื่น</td>\n",
       "      <td>โครงการอื่น</td>\n",
       "      <td>โครงการอื่น</td>\n",
       "      <td>โครงการอื่น</td>\n",
       "      <td>โครงการอื่น</td>\n",
       "    </tr>\n",
       "    <tr>\n",
       "      <th>1</th>\n",
       "      <td>โครงการอื่น</td>\n",
       "      <td>โครงการอื่น</td>\n",
       "      <td>โครงการอื่น</td>\n",
       "      <td>โครงการอื่น</td>\n",
       "      <td>โครงการอื่น</td>\n",
       "      <td>โครงการอื่น</td>\n",
       "      <td>โครงการอื่น</td>\n",
       "      <td>โครงการอื่น</td>\n",
       "      <td>โครงการอื่น</td>\n",
       "      <td>โครงการอื่น</td>\n",
       "      <td>โครงการอื่น</td>\n",
       "    </tr>\n",
       "    <tr>\n",
       "      <th>2</th>\n",
       "      <td>โครงการอื่น</td>\n",
       "      <td>โครงการอื่น</td>\n",
       "      <td>โครงการอื่น</td>\n",
       "      <td>โครงการอื่น</td>\n",
       "      <td>โครงการอื่น</td>\n",
       "      <td>โครงการอื่น</td>\n",
       "      <td>โครงการอื่น</td>\n",
       "      <td>โครงการอื่น</td>\n",
       "      <td>โครงการอื่น</td>\n",
       "      <td>โครงการอื่น</td>\n",
       "      <td>โครงการอื่น</td>\n",
       "    </tr>\n",
       "  </tbody>\n",
       "</table>\n",
       "</div>"
      ],
      "text/plain": [
       "     งานบริหาร     ก่อสร้าง         ระบบ       ควบคุม          ถนน  \\\n",
       "0  โครงการอื่น  โครงการอื่น  โครงการอื่น  โครงการอื่น  โครงการอื่น   \n",
       "1  โครงการอื่น  โครงการอื่น  โครงการอื่น  โครงการอื่น  โครงการอื่น   \n",
       "2  โครงการอื่น  โครงการอื่น  โครงการอื่น  โครงการอื่น  โครงการอื่น   \n",
       "\n",
       "         พัฒนา         คลอง   บำรุงรักษา     ระบายน้ำ      การคลัง  \\\n",
       "0  โครงการอื่น  โครงการอื่น  โครงการอื่น  โครงการอื่น  โครงการอื่น   \n",
       "1  โครงการอื่น  โครงการอื่น  โครงการอื่น  โครงการอื่น  โครงการอื่น   \n",
       "2  โครงการอื่น  โครงการอื่น  โครงการอื่น  โครงการอื่น  โครงการอื่น   \n",
       "\n",
       "           น้ำ  \n",
       "0  โครงการอื่น  \n",
       "1  โครงการอื่น  \n",
       "2  โครงการอื่น  "
      ]
     },
     "execution_count": 5,
     "metadata": {},
     "output_type": "execute_result"
    }
   ],
   "source": [
    "# สร้างตารางจาก keyword ที่ได้\n",
    "df1=pd.DataFrame(zip(m[0],m[1],m[2],m[3],m[4],m[5],m[6],m[7],m[8],m[9],m[10]),columns=['งานบริหาร','ก่อสร้าง','ระบบ','ควบคุม','ถนน','พัฒนา','คลอง','บำรุงรักษา','ระบายน้ำ','การคลัง','น้ำ'])\n",
    "df1.head(3)"
   ]
  },
  {
   "cell_type": "code",
   "execution_count": 6,
   "metadata": {
    "colab": {
     "base_uri": "https://localhost:8080/",
     "height": 331
    },
    "colab_type": "code",
    "id": "xQGEwipkQnQl",
    "outputId": "f50038ac-548a-457b-9a7f-083059679d3a"
   },
   "outputs": [
    {
     "data": {
      "text/html": [
       "<div>\n",
       "<style scoped>\n",
       "    .dataframe tbody tr th:only-of-type {\n",
       "        vertical-align: middle;\n",
       "    }\n",
       "\n",
       "    .dataframe tbody tr th {\n",
       "        vertical-align: top;\n",
       "    }\n",
       "\n",
       "    .dataframe thead th {\n",
       "        text-align: right;\n",
       "    }\n",
       "</style>\n",
       "<table border=\"1\" class=\"dataframe\">\n",
       "  <thead>\n",
       "    <tr style=\"text-align: right;\">\n",
       "      <th></th>\n",
       "      <th>Unnamed: 0</th>\n",
       "      <th>Index</th>\n",
       "      <th>หน่วยงาน</th>\n",
       "      <th>รายจ่ายหน่วยงาน</th>\n",
       "      <th>แผนงาน</th>\n",
       "      <th>ประเภทรายจ่าย</th>\n",
       "      <th>โครงการ</th>\n",
       "      <th>รายจ่ายโครงการ</th>\n",
       "      <th>งบประมาณ</th>\n",
       "      <th>งานบริหาร</th>\n",
       "      <th>ก่อสร้าง</th>\n",
       "      <th>ระบบ</th>\n",
       "      <th>ควบคุม</th>\n",
       "      <th>ถนน</th>\n",
       "      <th>พัฒนา</th>\n",
       "      <th>คลอง</th>\n",
       "      <th>บำรุงรักษา</th>\n",
       "      <th>ระบายน้ำ</th>\n",
       "      <th>การคลัง</th>\n",
       "      <th>น้ำ</th>\n",
       "    </tr>\n",
       "  </thead>\n",
       "  <tbody>\n",
       "    <tr>\n",
       "      <th>1009</th>\n",
       "      <td>1009</td>\n",
       "      <td>2</td>\n",
       "      <td>สำนักงานตลาดกรุงเทพมหานคร</td>\n",
       "      <td>167267000</td>\n",
       "      <td>งบกลาง</td>\n",
       "      <td>รายจ่ายพิเศษ</td>\n",
       "      <td>เงินสำรองจ่ายท่ัวไป</td>\n",
       "      <td>30,000,000</td>\n",
       "      <td>การพาณิชย์ของกรุงเทพมหานคร</td>\n",
       "      <td>โครงการอื่น</td>\n",
       "      <td>โครงการอื่น</td>\n",
       "      <td>โครงการอื่น</td>\n",
       "      <td>โครงการอื่น</td>\n",
       "      <td>โครงการอื่น</td>\n",
       "      <td>โครงการอื่น</td>\n",
       "      <td>โครงการอื่น</td>\n",
       "      <td>โครงการอื่น</td>\n",
       "      <td>โครงการอื่น</td>\n",
       "      <td>โครงการอื่น</td>\n",
       "      <td>โครงการอื่น</td>\n",
       "    </tr>\n",
       "    <tr>\n",
       "      <th>1010</th>\n",
       "      <td>1010</td>\n",
       "      <td>2</td>\n",
       "      <td>สำนักงานตลาดกรุงเทพมหานคร</td>\n",
       "      <td>167267000</td>\n",
       "      <td>แผนงานการพาณิชย์ของกรุงเทพมหานคร</td>\n",
       "      <td>รายจ่ายพิเศษ</td>\n",
       "      <td>งานบริหารการตลาด</td>\n",
       "      <td>3,135,000</td>\n",
       "      <td>การพาณิชย์ของกรุงเทพมหานคร</td>\n",
       "      <td>งานบริหาร</td>\n",
       "      <td>โครงการอื่น</td>\n",
       "      <td>โครงการอื่น</td>\n",
       "      <td>โครงการอื่น</td>\n",
       "      <td>โครงการอื่น</td>\n",
       "      <td>โครงการอื่น</td>\n",
       "      <td>โครงการอื่น</td>\n",
       "      <td>โครงการอื่น</td>\n",
       "      <td>โครงการอื่น</td>\n",
       "      <td>โครงการอื่น</td>\n",
       "      <td>โครงการอื่น</td>\n",
       "    </tr>\n",
       "    <tr>\n",
       "      <th>1011</th>\n",
       "      <td>1011</td>\n",
       "      <td>3</td>\n",
       "      <td>สำนักงานพัฒนาที่อยู่อาศัย</td>\n",
       "      <td>5411000</td>\n",
       "      <td>แผนงานการพาณิชย์ของกรุงเทพมหานคร</td>\n",
       "      <td>รายจ่ายประจำ</td>\n",
       "      <td>งานบริหารการพัฒนาที่อยู่อาศัย</td>\n",
       "      <td>5411000</td>\n",
       "      <td>การพาณิชย์ของกรุงเทพมหานคร</td>\n",
       "      <td>งานบริหาร</td>\n",
       "      <td>โครงการอื่น</td>\n",
       "      <td>โครงการอื่น</td>\n",
       "      <td>โครงการอื่น</td>\n",
       "      <td>โครงการอื่น</td>\n",
       "      <td>พัฒนา</td>\n",
       "      <td>โครงการอื่น</td>\n",
       "      <td>โครงการอื่น</td>\n",
       "      <td>โครงการอื่น</td>\n",
       "      <td>โครงการอื่น</td>\n",
       "      <td>โครงการอื่น</td>\n",
       "    </tr>\n",
       "  </tbody>\n",
       "</table>\n",
       "</div>"
      ],
      "text/plain": [
       "      Unnamed: 0  Index                   หน่วยงาน  รายจ่ายหน่วยงาน  \\\n",
       "1009        1009      2  สำนักงานตลาดกรุงเทพมหานคร        167267000   \n",
       "1010        1010      2  สำนักงานตลาดกรุงเทพมหานคร        167267000   \n",
       "1011        1011      3  สำนักงานพัฒนาที่อยู่อาศัย          5411000   \n",
       "\n",
       "                                แผนงาน ประเภทรายจ่าย  \\\n",
       "1009                            งบกลาง  รายจ่ายพิเศษ   \n",
       "1010  แผนงานการพาณิชย์ของกรุงเทพมหานคร  รายจ่ายพิเศษ   \n",
       "1011  แผนงานการพาณิชย์ของกรุงเทพมหานคร  รายจ่ายประจำ   \n",
       "\n",
       "                            โครงการ รายจ่ายโครงการ  \\\n",
       "1009            เงินสำรองจ่ายท่ัวไป     30,000,000   \n",
       "1010               งานบริหารการตลาด      3,135,000   \n",
       "1011  งานบริหารการพัฒนาที่อยู่อาศัย        5411000   \n",
       "\n",
       "                        งบประมาณ    งานบริหาร     ก่อสร้าง         ระบบ  \\\n",
       "1009  การพาณิชย์ของกรุงเทพมหานคร  โครงการอื่น  โครงการอื่น  โครงการอื่น   \n",
       "1010  การพาณิชย์ของกรุงเทพมหานคร    งานบริหาร  โครงการอื่น  โครงการอื่น   \n",
       "1011  การพาณิชย์ของกรุงเทพมหานคร    งานบริหาร  โครงการอื่น  โครงการอื่น   \n",
       "\n",
       "           ควบคุม          ถนน        พัฒนา         คลอง   บำรุงรักษา  \\\n",
       "1009  โครงการอื่น  โครงการอื่น  โครงการอื่น  โครงการอื่น  โครงการอื่น   \n",
       "1010  โครงการอื่น  โครงการอื่น  โครงการอื่น  โครงการอื่น  โครงการอื่น   \n",
       "1011  โครงการอื่น  โครงการอื่น        พัฒนา  โครงการอื่น  โครงการอื่น   \n",
       "\n",
       "         ระบายน้ำ      การคลัง          น้ำ  \n",
       "1009  โครงการอื่น  โครงการอื่น  โครงการอื่น  \n",
       "1010  โครงการอื่น  โครงการอื่น  โครงการอื่น  \n",
       "1011  โครงการอื่น  โครงการอื่น  โครงการอื่น  "
      ]
     },
     "execution_count": 6,
     "metadata": {},
     "output_type": "execute_result"
    }
   ],
   "source": [
    "# รวมตาราง\n",
    "df2=pd.concat([df,df1], axis=1)\n",
    "df2.tail(3)"
   ]
  },
  {
   "cell_type": "code",
   "execution_count": 7,
   "metadata": {
    "colab": {},
    "colab_type": "code",
    "id": "2DjORAdofYc-"
   },
   "outputs": [],
   "source": [
    "df2.to_csv('project.csv')\n"
   ]
  }
 ],
 "metadata": {
  "colab": {
   "name": "3_bangkok_project_final.ipynb",
   "provenance": []
  },
  "interpreter": {
   "hash": "a81ce03e423a1e9e483631ad9905a99b691587228ac3a8b5f05d5eb9a5ab653e"
  },
  "kernelspec": {
   "display_name": "Python 3.8.5 ('base')",
   "language": "python",
   "name": "python3"
  },
  "language_info": {
   "codemirror_mode": {
    "name": "ipython",
    "version": 3
   },
   "file_extension": ".py",
   "mimetype": "text/x-python",
   "name": "python",
   "nbconvert_exporter": "python",
   "pygments_lexer": "ipython3",
   "version": "3.8.5"
  }
 },
 "nbformat": 4,
 "nbformat_minor": 1
}
